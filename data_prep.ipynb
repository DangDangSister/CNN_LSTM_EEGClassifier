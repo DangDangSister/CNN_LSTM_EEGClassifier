{
 "cells": [
  {
   "cell_type": "markdown",
   "metadata": {
    "slideshow": {
     "slide_type": "-"
    }
   },
   "source": [
    "# Data preparation\n",
    "Data preparation for EEG classifier. It includes downsampling and time truncation. E.g. supposing we have multichannel timeseries of size [time x channels x trials]. Initially we have time interval e.g. [-500, 1000] ms, after truncation we have e.g. [200, 500] ms. After downsampling we have e.g. 80 Hz instead of 500 Hz. After all data will have a shape [trials x channels x time (sparse)]"
   ]
  },
  {
   "cell_type": "code",
   "execution_count": 3,
   "metadata": {},
   "outputs": [],
   "source": [
    "import numpy as np\n",
    "import scipy.io"
   ]
  },
  {
   "cell_type": "code",
   "execution_count": 1,
   "metadata": {},
   "outputs": [],
   "source": [
    "def downsample(data, freq_old=500, freq_new=128):\n",
    "    oldsize = data.shape[0]\n",
    "    newsize = oldsize*freq_new//freq_old\n",
    "    indices = [i for i in range(oldsize) for j in range(newsize)]\n",
    "    densedata = data[indices]\n",
    "    outdata = []\n",
    "    for i in range(newsize):\n",
    "        outdata.append(np.mean(densedata[i*oldsize:(i+1)*oldsize,...], axis=0, keepdims=True))\n",
    "    outdata = reduce(lambda a,b: np.append(a,b,0), outdata)\n",
    "    return outdata\n",
    "\n",
    "def trunc(data, t0, t):\n",
    "    return data[:,t0:t,:]\n"
   ]
  },
  {
   "cell_type": "code",
   "execution_count": 9,
   "metadata": {},
   "outputs": [],
   "source": [
    "def load_data(*file_names):\n",
    "    data = []\n",
    "    y = np.array([])\n",
    "    for f in file_names:\n",
    "        dic = scipy.io.loadmat(f)\n",
    "        X, label = dic['eegT'], 1 if 'eegT' in dic.keys() else dic['eegNT'], 0\n",
    "        X = np.transpose(X, [2, 0, 1])\n",
    "        data.append(X)\n",
    "        y = np.hstack(y, np.ones(X.shape[0])*label)\n",
    "    X = reduce(lambda a,b: np.append(a, b, 0), data)\n",
    "    return X, y\n",
    "        "
   ]
  },
  {
   "cell_type": "code",
   "execution_count": 5,
   "metadata": {},
   "outputs": [],
   "source": [
    "data = scipy.io.loadmat('/home/moskaleona/alenadir/data/rawData/25/eegT.mat')['eegT']"
   ]
  },
  {
   "cell_type": "code",
   "execution_count": 8,
   "metadata": {},
   "outputs": [
    {
     "data": {
      "text/plain": [
       "(750, 19, 236)"
      ]
     },
     "execution_count": 8,
     "metadata": {},
     "output_type": "execute_result"
    }
   ],
   "source": [
    "data[:,:]"
   ]
  },
  {
   "cell_type": "code",
   "execution_count": null,
   "metadata": {},
   "outputs": [],
   "source": []
  }
 ],
 "metadata": {
  "kernelspec": {
   "display_name": "Python 2",
   "language": "python",
   "name": "python2"
  },
  "language_info": {
   "codemirror_mode": {
    "name": "ipython",
    "version": 2
   },
   "file_extension": ".py",
   "mimetype": "text/x-python",
   "name": "python",
   "nbconvert_exporter": "python",
   "pygments_lexer": "ipython2",
   "version": "2.7.14"
  }
 },
 "nbformat": 4,
 "nbformat_minor": 2
}
